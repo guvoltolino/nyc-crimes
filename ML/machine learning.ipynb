{
 "cells": [
  {
   "cell_type": "code",
   "execution_count": 0,
   "metadata": {
    "application/vnd.databricks.v1+cell": {
     "cellMetadata": {
      "byteLimit": 2048000,
      "rowLimit": 10000
     },
     "inputWidgets": {},
     "nuid": "de0544e2-e8b0-402e-9ce3-912f2a99675a",
     "showTitle": false,
     "title": ""
    }
   },
   "outputs": [],
   "source": [
    "import os"
   ]
  },
  {
   "cell_type": "code",
   "execution_count": 0,
   "metadata": {
    "application/vnd.databricks.v1+cell": {
     "cellMetadata": {
      "byteLimit": 2048000,
      "rowLimit": 10000
     },
     "inputWidgets": {},
     "nuid": "36ba4dbe-1e95-4b25-97be-e400e8a5267e",
     "showTitle": false,
     "title": ""
    }
   },
   "outputs": [],
   "source": [
    "datalake_name = dbutils.secrets.get(scope=\"nyc-crimes-project\", key=\"storage-account-name\")\n",
    "datalake_key = dbutils.secrets.get(scope=\"nyc-crimes-project\", key=\"storage-account-key\")\n",
    "container_name = dbutils.secrets.get(scope=\"nyc-crimes-project\", key=\"container-name\")"
   ]
  },
  {
   "cell_type": "code",
   "execution_count": 0,
   "metadata": {
    "application/vnd.databricks.v1+cell": {
     "cellMetadata": {
      "byteLimit": 2048000,
      "rowLimit": 10000
     },
     "inputWidgets": {},
     "nuid": "80c5625d-bf7a-4507-86ea-45daf3ec4738",
     "showTitle": false,
     "title": ""
    }
   },
   "outputs": [],
   "source": [
    "if not any(mount.mountPoint == \"/mnt/ouro\" for mount in dbutils.fs.mounts()):\n",
    "    dbutils.fs.mount(\n",
    "        source=f\"wasbs://{container_name}@{datalake_name}.blob.core.windows.net/ouro\",\n",
    "        mount_point=\"/mnt/ouro\",\n",
    "        extra_configs={\n",
    "            f\"fs.azure.account.key.{datalake_name}.blob.core.windows.net\": datalake_key\n",
    "        }\n",
    "    )\n",
    "else:\n",
    "    print(\"A montagem '/mnt/ouro' já existe.\")"
   ]
  },
  {
   "cell_type": "code",
   "execution_count": 0,
   "metadata": {
    "application/vnd.databricks.v1+cell": {
     "cellMetadata": {
      "byteLimit": 2048000,
      "rowLimit": 10000
     },
     "inputWidgets": {},
     "nuid": "e72c1578-06fa-4c0e-b302-2b156f4346a7",
     "showTitle": false,
     "title": ""
    }
   },
   "outputs": [],
   "source": [
    "df = spark.read.parquet(\"/mnt/ouro/\")"
   ]
  },
  {
   "cell_type": "code",
   "execution_count": 0,
   "metadata": {
    "application/vnd.databricks.v1+cell": {
     "cellMetadata": {
      "byteLimit": 2048000,
      "rowLimit": 10000
     },
     "inputWidgets": {},
     "nuid": "e06d624f-34a5-400f-a74d-5e32eba21b65",
     "showTitle": false,
     "title": ""
    }
   },
   "outputs": [],
   "source": [
    "from pyspark.sql.functions import col, hour, dayofweek, year, month, date_format\n",
    "from pyspark.sql.functions import col, count\n",
    "\n",
    "df = df.withColumn(\"date\", col(\"start_date\"))\n",
    "\n",
    "df_aggregated = df.groupBy(\"latitude\", \"longitude\", \"date\") \\\n",
    "                  .agg(count(\"complaint_id\").alias(\"crime_count\"))\n",
    "\n",
    "df = df.join(df_aggregated, on=[\"latitude\", \"longitude\", \"date\"], how=\"left\")\n",
    "\n",
    "df = df.withColumn(\"start_hour\", hour(col(\"start_time\"))) \\\n",
    "       .withColumn(\"day_of_week\", dayofweek(col(\"start_date\"))) \\\n",
    "       .withColumn(\"month\", month(col(\"start_date\"))) \\\n",
    "       .withColumn(\"year\", year(col(\"start_date\")))\n",
    "\n",
    "df = df.withColumn(\"latitude\", col(\"latitude\").cast(\"float\")) \\\n",
    "       .withColumn(\"longitude\", col(\"longitude\").cast(\"float\"))\n",
    "\n",
    "df = df.select(\"borough_name\", \"offense_description\", \"premises_type_description\", \n",
    "               \"victim_race\", \"suspect_race\", \"latitude\", \"longitude\", \n",
    "               \"start_hour\", \"day_of_week\", \"month\", \"year\", \"crime_count\")\n"
   ]
  },
  {
   "cell_type": "code",
   "execution_count": 0,
   "metadata": {
    "application/vnd.databricks.v1+cell": {
     "cellMetadata": {
      "byteLimit": 2048000,
      "rowLimit": 10000
     },
     "inputWidgets": {},
     "nuid": "757f11ea-e5b5-4404-91e0-0e93fd0e207a",
     "showTitle": false,
     "title": ""
    }
   },
   "outputs": [],
   "source": [
    "from pyspark.ml.feature import StringIndexer, OneHotEncoder, VectorAssembler\n",
    "from pyspark.ml import Pipeline\n",
    "\n",
    "indexers = [StringIndexer(inputCol=col, outputCol=col + \"_indexed\", handleInvalid=\"keep\") \n",
    "            for col in [\"borough_name\", \"offense_description\", \"premises_type_description\", \"victim_race\", \"suspect_race\"]]\n",
    "\n",
    "encoder = OneHotEncoder(inputCols=[indexer.getOutputCol() for indexer in indexers],\n",
    "                        outputCols=[col + \"_encoded\" for col in [\"borough_name\", \"offense_description\", \"premises_type_description\", \"victim_race\", \"suspect_race\"]])\n",
    "\n",
    "pipeline = Pipeline(stages=indexers + [encoder, assembler, rf])\n"
   ]
  },
  {
   "cell_type": "code",
   "execution_count": 0,
   "metadata": {
    "application/vnd.databricks.v1+cell": {
     "cellMetadata": {
      "byteLimit": 2048000,
      "rowLimit": 10000
     },
     "inputWidgets": {},
     "nuid": "77cc6f4e-7afe-4327-af59-f8d7350c30fe",
     "showTitle": false,
     "title": ""
    }
   },
   "outputs": [],
   "source": [
    "from pyspark.ml.regression import RandomForestRegressor\n",
    "\n",
    "rf = RandomForestRegressor(featuresCol=\"features\", labelCol=\"crime_count\")\n",
    "\n",
    "pipeline = Pipeline(stages=indexers + [encoder, assembler, rf])\n",
    "\n",
    "train_data, test_data = df.randomSplit([0.7, 0.3], seed=42)\n",
    "\n",
    "model = pipeline.fit(train_data)\n"
   ]
  },
  {
   "cell_type": "code",
   "execution_count": 0,
   "metadata": {
    "application/vnd.databricks.v1+cell": {
     "cellMetadata": {
      "byteLimit": 2048000,
      "rowLimit": 10000
     },
     "inputWidgets": {},
     "nuid": "3cd5a969-9d2f-4405-9afc-9af541b9d01d",
     "showTitle": false,
     "title": ""
    }
   },
   "outputs": [],
   "source": [
    "predictions.select(\"latitude\", \"longitude\", \"crime_count\").show()"
   ]
  }
 ],
 "metadata": {
  "application/vnd.databricks.v1+notebook": {
   "dashboards": [],
   "environmentMetadata": null,
   "language": "python",
   "notebookMetadata": {
    "pythonIndentUnit": 4
   },
   "notebookName": "machine learning",
   "widgets": {}
  }
 },
 "nbformat": 4,
 "nbformat_minor": 0
}
